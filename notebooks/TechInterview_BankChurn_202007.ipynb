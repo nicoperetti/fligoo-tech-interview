{
 "cells": [
  {
   "cell_type": "markdown",
   "metadata": {
    "hideCode": false,
    "hidePrompt": false
   },
   "source": [
    "# <img style=\"float: left; padding-right: 10px; width: 200px\" src=\"https://fligoo.com/img/logo-large.png\"> Fligoo Data Science - Tech Interview: Bank Churn\n",
    "### July 2020\n",
    "\n",
    "<hr style=\"height:2pt\">"
   ]
  },
  {
   "cell_type": "markdown",
   "metadata": {
    "hideCode": false,
    "hidePrompt": false
   },
   "source": [
    "## Description\n",
    "\n",
    "A certain bank provided some datasets to analyze the behavior of their customers to identify opportunities for churn reduction. \n",
    "\n",
    "The goal of this test is to perform an Exploratory Data Analysis (EDA) on these datasets, to understand the information contained and obtain insights that could be relevant to solve the business needs of this customer.\n",
    "\n",
    "These are the descriptions for the 3 given datasets: \n",
    "\n",
    "### Table: Customer\n",
    "\n",
    "**Description:** Personal information of customers\n",
    "\n",
    "**Fields:**\n",
    "- **cust_id_mask:**\tUnique ID of customer in the bank, masked version (string)\n",
    "- **record_date:**\tDate of record (date)\n",
    "- **age:**\tAge of customer in years (ordinal)\n",
    "- **gender:**\tGender of customer (categorical)\n",
    "- **marital:**\tMarital status of customer (categorical)\n",
    "- **children:**\tAmount of children of family (ordinal)\n",
    "- **income:** Monthly income in dollars (real)\n",
    "- **risk_score:**\tRisk score assigned by Risk area (ordinal)\n",
    "- **revolving:** Total balance on credit cards and personal lines of credit except real estate and no installment debt like car loans divided by the sum of credit limits, in dollars (real)\n",
    "\n",
    "\n",
    "### Table: Service\n",
    "\n",
    "**Description:** Tenancy of products / services in customers.\n",
    "\n",
    "**Fields:**\n",
    "- **cust_id_mask:**\tUnique ID of customer in the bank, masked version (string)\n",
    "- **record_date:**\tDate of record (date)\n",
    "- **product_id:**\tUnique ID of product / service (categorical)\n",
    "- **product_name:**\tName of product / service (categorical)\n",
    "- **default:**\tFlag indicating if the customer experienced 90 days past due delinquency or worse (boolean)\n",
    "- **cancelled:**\tFlag indicating if the product was cancelled or not (boolean)\n",
    "\n",
    "\n",
    "### Table: Contacts\n",
    "\n",
    "**Description:** Contacts of customer to support area\n",
    "\n",
    "**Fields:**\n",
    "- **cust_id_mask:**\tUnique ID of customer in the bank, masked version (string)\n",
    "- **record_date:**\tDate of record (date)\n",
    "- **channel:**\tChannel used to contact area (categorical)\n",
    "- **reason:**\tDescription of reason of contact (string)\n",
    "- **result:**\tDescription of result of contact (string)\n",
    "\n",
    "\n",
    "You can find the data in this [link](https://s3-us-west-2.amazonaws.com/fligoo.data-science/TechInterviews/BankChurn/data.zip)\n",
    "\n",
    "\n",
    "Please **read carefully** all the assignments to guide the work that is expected to find in this notebook."
   ]
  },
  {
   "cell_type": "markdown",
   "metadata": {
    "hideCode": false,
    "hidePrompt": false
   },
   "source": [
    "## Assignments\n",
    "\n",
    "In this notebook you need to explore and process the given datasets, and then perform the analysis to extract meaningful facts. You are free to make any kind of analytic you want, but at the end it is expected to have done the \"mandatory\" tasks on this work. In addition, there are some \"desirable\" aspects that would enrich the work done, and some \"bonus\" tasks as well to obtain an oustanding valoration in this interview.\n",
    "\n",
    "**NOTE: provide reports in English.**\n",
    "\n",
    "### Mandatory\n",
    "\n",
    "- **Stack of technologies:** The analysis on this notebook should be done by using at least the following stack:   \n",
    "    - Python 3.x\n",
    "    - Pandas 1.0.x\n",
    "    - Numpy 1.18.x\n",
    "- **Data QA:** You must check the quality of the given dataset to make an assessment of how appropriate it is for later Data Science tasks. Propose a set of corrective actions over the data.     \n",
    "- **Report insights and conclusions:** Describe the results obtained during the exploratory analysis and provide conclusions from a business perspective, supported by charts / tables / metrics.    \n",
    "- **Feature extraction:** Identify candidates of features that could properly describe the problem, either from the given columns or from their transformations.\n",
    "- **Machine Learning approaches:** Describe the possible Machine Learning tasks that could be performed from the given data, which may be valuable in the context of the finance domain (just explain with words, don't fit a model).\n",
    "\n",
    "### Desirable aspects\n",
    "\n",
    "- **Code versioning with Git** (you are free to publish it on your own Github/Bitbucket account!).\n",
    "- **Machine Learning approaches:** at least one fitted model with the given data.\n",
    "- **Show proficiency in Python:** By showing good practices in the structure and documentation, usage of several programming paradigms (e.g. imperative, OOP, functional), etc.\n",
    "- **Use cases:** Describe possible use cases for this dataset that could add value to the given business, indicating methods / techniques and algorithms for each of them and justifying the choice made.\n",
    "\n",
    "### Bonus\n",
    "\n",
    "- Dockerfile to setup environment.\n",
    "- Identify features and new attributes / tables that could be relevant or needed for better analysis\n",
    "\n",
    "Once you complete the assessment, please send a ZIP file of the folder with all the resources used in this work (e.g. Jupyter notebook, Python scripts, text files, images, etc) to leandro.ferrado@fligoo.com. Then you are going to have a final meeting with the team to discuss the work done in this notebook and answer the questions that could arise.\n",
    "\n",
    "**Have fun!**\n",
    "\n",
    "![Have fun](https://4.bp.blogspot.com/-emdnVcYiABQ/WJYzhGQDPWI/AAAAAAAAASY/L848Uu-4w4IEFlFDPussHb1ToJCz1VCIACLcB/s1600/fun%2Bgif%2B1.gif)"
   ]
  }
 ],
 "metadata": {
  "@webio": {
   "lastCommId": null,
   "lastKernelId": null
  },
  "hide_code_all_hidden": false,
  "kernelspec": {
   "display_name": "Python 3",
   "language": "python",
   "name": "python3"
  },
  "language_info": {
   "codemirror_mode": {
    "name": "ipython",
    "version": 3
   },
   "file_extension": ".py",
   "mimetype": "text/x-python",
   "name": "python",
   "nbconvert_exporter": "python",
   "pygments_lexer": "ipython3",
   "version": "3.7.7"
  }
 },
 "nbformat": 4,
 "nbformat_minor": 4
}
